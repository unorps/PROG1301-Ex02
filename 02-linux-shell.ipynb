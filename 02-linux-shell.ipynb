{
 "cells": [
  {
   "cell_type": "code",
   "execution_count": null,
   "id": "2e2e06d2-bcad-4470-9a7b-6117e25251f4",
   "metadata": {
    "editable": false,
    "nbgrader": {
     "grade": false,
     "grade_id": "cell-3fa6da38a5f0263d",
     "locked": true,
     "schema_version": 3,
     "solution": false,
     "task": false
    },
    "slideshow": {
     "slide_type": ""
    },
    "tags": []
   },
   "outputs": [],
   "source": [
    "import os\n",
    "from numpy.testing import assert_equal"
   ]
  },
  {
   "cell_type": "markdown",
   "id": "223df8e5-8bdc-430f-b812-873f495b482e",
   "metadata": {
    "editable": false,
    "nbgrader": {
     "grade": false,
     "grade_id": "cell-74e64b7bd112be65",
     "locked": true,
     "schema_version": 3,
     "solution": false,
     "task": false
    },
    "slideshow": {
     "slide_type": ""
    },
    "tags": []
   },
   "source": [
    "# Linux Shell\n",
    "\n",
    "**NOTE:** For all items, the answer should be a single-line Linux (bash) shell command.  \n",
    "Concatenation using `&&` and `;` is not allowed."
   ]
  },
  {
   "cell_type": "markdown",
   "id": "da9702da-3540-481b-a362-6285dc163855",
   "metadata": {
    "editable": false,
    "nbgrader": {
     "grade": false,
     "grade_id": "cell-1c98a5567eb5dbe3",
     "locked": true,
     "schema_version": 3,
     "solution": false,
     "task": false
    },
    "slideshow": {
     "slide_type": ""
    },
    "tags": []
   },
   "source": [
    "For this exercise, you will need the demo files.  \n",
    "Due to the file size limits on ALICE, even under compression, I had to split them into 4 collections: `linux_files.tar.gz.part-aa`, and `linux_files.tar.gz.part-ab`. \n",
    "\n",
    "To extract the files, use the command below (either in Jupyter, or in the command line).  \n",
    "The first command just concatenates the file to remake the full archive.  \n",
    "The actual extraction is done by the `unzip` command.  \n",
    "You can remove the gz files once you see this.  "
   ]
  },
  {
   "cell_type": "code",
   "execution_count": null,
   "id": "b80c5da0-07c5-4e89-954a-3ca942181489",
   "metadata": {
    "editable": true,
    "slideshow": {
     "slide_type": ""
    },
    "tags": []
   },
   "outputs": [],
   "source": [
    "#!cat linux_files.tar.gz.part-* > linux_files.tar.gz && tar -xvf linux_files.tar.gz "
   ]
  },
  {
   "cell_type": "markdown",
   "id": "5ed0bcf3-bd2d-427d-aafb-08c9dbd1e608",
   "metadata": {
    "editable": false,
    "nbgrader": {
     "grade": false,
     "grade_id": "cell-3c55f97b8dffdf7a",
     "locked": true,
     "schema_version": 3,
     "solution": false,
     "task": false
    },
    "slideshow": {
     "slide_type": ""
    },
    "tags": []
   },
   "source": [
    "## Problem 1\n",
    "Create the directory structure shown below from the current directory:\n",
    "\n",
    "    a/b/c\n",
    "    d/e/f\n",
    "    j/k/l"
   ]
  },
  {
   "cell_type": "code",
   "execution_count": null,
   "id": "3b1108fa-c819-4708-a33f-1eca6ee2e4ed",
   "metadata": {
    "editable": false,
    "nbgrader": {
     "grade": false,
     "grade_id": "cell-b79f6c8441ca7657",
     "locked": true,
     "schema_version": 3,
     "solution": false,
     "task": false
    },
    "slideshow": {
     "slide_type": ""
    },
    "tags": []
   },
   "outputs": [],
   "source": [
    "%%bash\n",
    "rm -rf a\n",
    "rm -rf d\n",
    "rm -rf j"
   ]
  },
  {
   "cell_type": "code",
   "execution_count": null,
   "id": "36c3dac9-1da1-4c83-8263-48994f465b65",
   "metadata": {
    "editable": true,
    "nbgrader": {
     "grade": false,
     "grade_id": "cell-6e94fd9f4fea63f8",
     "locked": false,
     "schema_version": 3,
     "solution": true,
     "task": false
    },
    "slideshow": {
     "slide_type": ""
    },
    "tags": []
   },
   "outputs": [],
   "source": [
    "%%bash\n",
    "### YOUR CODE HERE\n"
   ]
  },
  {
   "cell_type": "code",
   "execution_count": null,
   "id": "d17c9863-e250-4fba-a134-17addc4c4b2f",
   "metadata": {
    "editable": false,
    "nbgrader": {
     "grade": true,
     "grade_id": "cell-891a7af422784155",
     "locked": true,
     "points": 1,
     "schema_version": 3,
     "solution": false,
     "task": false
    },
    "slideshow": {
     "slide_type": ""
    },
    "tags": []
   },
   "outputs": [],
   "source": [
    "assert_equal(os.path.exists('a/b/c'), True)\n",
    "assert_equal(os.path.exists('d/e/f'), True)\n",
    "assert_equal(os.path.exists('j/k/l'), True)"
   ]
  },
  {
   "cell_type": "markdown",
   "id": "864e23c6-2342-4103-8361-8d3052b96e12",
   "metadata": {
    "editable": false,
    "nbgrader": {
     "grade": false,
     "grade_id": "cell-923e11242c3b3cd2",
     "locked": true,
     "schema_version": 3,
     "solution": false,
     "task": false
    },
    "slideshow": {
     "slide_type": ""
    },
    "tags": []
   },
   "source": [
    "## Problem 2\n",
    "Create a clone copy of the `Sushi Preference Datasets` public data directory to the current directory.  \n",
    "Being a clone copy, it must preserve all attributes (mode, ownership, timestamps), links and directory structure."
   ]
  },
  {
   "cell_type": "code",
   "execution_count": null,
   "id": "6f89d072-cd2a-4864-a366-d21cbab3fefb",
   "metadata": {
    "editable": false,
    "nbgrader": {
     "grade": false,
     "grade_id": "cell-858ff95904111374",
     "locked": true,
     "schema_version": 3,
     "solution": false,
     "task": false
    },
    "slideshow": {
     "slide_type": ""
    },
    "tags": []
   },
   "outputs": [],
   "source": [
    "%%bash\n",
    "rm -rf sushipref"
   ]
  },
  {
   "cell_type": "code",
   "execution_count": null,
   "id": "f4fa6a0a-2409-42e8-9bc0-60d403922020",
   "metadata": {
    "editable": true,
    "nbgrader": {
     "grade": false,
     "grade_id": "cell-f95720c8799e461c",
     "locked": false,
     "schema_version": 3,
     "solution": true,
     "task": false
    },
    "slideshow": {
     "slide_type": ""
    },
    "tags": []
   },
   "outputs": [],
   "source": [
    "%%bash\n",
    "### YOUR CODE HERE\n"
   ]
  },
  {
   "cell_type": "code",
   "execution_count": null,
   "id": "de2e385d-0f67-4015-a3e0-a92d16131278",
   "metadata": {
    "editable": false,
    "nbgrader": {
     "grade": false,
     "grade_id": "cell-cdea14a72fcb16cb",
     "locked": true,
     "schema_version": 3,
     "solution": false,
     "task": false
    },
    "slideshow": {
     "slide_type": ""
    },
    "tags": []
   },
   "outputs": [],
   "source": [
    "%%bash --bg --out output\n",
    "ls -ogR --color=never sushipref"
   ]
  },
  {
   "cell_type": "code",
   "execution_count": null,
   "id": "ea0ddc03-db77-497e-84ce-6366ec847585",
   "metadata": {
    "editable": false,
    "nbgrader": {
     "grade": true,
     "grade_id": "cell-5dcd5564c6dde16a",
     "locked": true,
     "points": 1,
     "schema_version": 3,
     "solution": false,
     "task": false
    },
    "slideshow": {
     "slide_type": ""
    },
    "tags": []
   },
   "outputs": [],
   "source": [
    "output = str(await output.read(), encoding='utf-8').strip()\n",
    "lines_sushi = output.split('\\n')\n",
    "assert_equal(len(lines_sushi), 14)\n",
    "assert_equal(\n",
    "    lines_sushi[:5], \n",
    "    ['total 440',\n",
    "     'drwxr-x---@ 10      320 Aug 20 18:31 sushi3-2016',\n",
    "     '-rw-r--r--   1   221754 Aug 20 14:07 sushi3-2016.zip',\n",
    "     '',\n",
    "     'sushipref/sushi3-2016:']\n",
    ")\n",
    "!rm -rf sushipref"
   ]
  },
  {
   "cell_type": "markdown",
   "id": "2a1695ce-0de8-4d37-b416-3c434bfec1b9",
   "metadata": {
    "editable": false,
    "nbgrader": {
     "grade": false,
     "grade_id": "cell-e92da222a0a73da5",
     "locked": true,
     "schema_version": 3,
     "solution": false,
     "task": false
    },
    "slideshow": {
     "slide_type": ""
    },
    "tags": []
   },
   "source": [
    "## Problem 3\n",
    "\n",
    "Rename the directory `y` under the directory `x` to `foo`."
   ]
  },
  {
   "cell_type": "code",
   "execution_count": null,
   "id": "69bd1271-2c03-4d84-b2d3-ec2916362379",
   "metadata": {
    "editable": false,
    "nbgrader": {
     "grade": false,
     "grade_id": "cell-0b19b16822a5d4d5",
     "locked": true,
     "schema_version": 3,
     "solution": false,
     "task": false
    },
    "slideshow": {
     "slide_type": ""
    },
    "tags": []
   },
   "outputs": [],
   "source": [
    "%%bash\n",
    "rm -rf x\n",
    "mkdir x\n",
    "mkdir x/y\n",
    "mkdir x/z\n",
    "touch x/y/foo.txt\n",
    "touch x/z/bar.txt"
   ]
  },
  {
   "cell_type": "code",
   "execution_count": null,
   "id": "e3714c7f-4fd7-4756-bc7c-f88f62bf7594",
   "metadata": {
    "editable": true,
    "nbgrader": {
     "grade": false,
     "grade_id": "cell-7222f2d9353815aa",
     "locked": false,
     "schema_version": 3,
     "solution": true,
     "task": false
    },
    "slideshow": {
     "slide_type": ""
    },
    "tags": []
   },
   "outputs": [],
   "source": [
    "%%bash\n",
    "### YOUR CODE HERE\n"
   ]
  },
  {
   "cell_type": "code",
   "execution_count": null,
   "id": "78be3f46-5be6-466f-8a0d-14a2d6ea837f",
   "metadata": {
    "editable": false,
    "nbgrader": {
     "grade": false,
     "grade_id": "cell-4d301d44ec90848d",
     "locked": true,
     "schema_version": 3,
     "solution": false,
     "task": false
    },
    "slideshow": {
     "slide_type": ""
    },
    "tags": []
   },
   "outputs": [],
   "source": [
    "%%bash --bg --out output\n",
    "ls -R --color=never x"
   ]
  },
  {
   "cell_type": "code",
   "execution_count": null,
   "id": "b66260fa-c5bf-4209-92c3-4eeab3bdb12c",
   "metadata": {
    "editable": false,
    "nbgrader": {
     "grade": true,
     "grade_id": "cell-1339e137e105f4ae",
     "locked": true,
     "points": 1,
     "schema_version": 3,
     "solution": false,
     "task": false
    },
    "slideshow": {
     "slide_type": ""
    },
    "tags": []
   },
   "outputs": [],
   "source": [
    "output = str(await output.read(), encoding='utf-8').strip()\n",
    "lines_foo = output.split('\\n')\n",
    "assert_equal(\n",
    "    lines_foo,\n",
    "    ['foo', 'z', '', 'x/foo:', 'foo.txt', '', 'x/z:', 'bar.txt']\n",
    ")\n",
    "!rm -rf x"
   ]
  },
  {
   "cell_type": "markdown",
   "id": "ffd013fb-d9b5-4152-ad17-929bf179949a",
   "metadata": {
    "editable": false,
    "nbgrader": {
     "grade": false,
     "grade_id": "cell-211ffb2210f05f06",
     "locked": true,
     "schema_version": 3,
     "solution": false,
     "task": false
    },
    "slideshow": {
     "slide_type": ""
    },
    "tags": []
   },
   "source": [
    "## Problem 4\n",
    "\n",
    "Create a symbolic link to `./linux_files/data/public/football-events` on the current directory but name it `soccer`."
   ]
  },
  {
   "cell_type": "code",
   "execution_count": null,
   "id": "96732365-bd63-4019-9342-975f6b3652f1",
   "metadata": {
    "editable": false,
    "nbgrader": {
     "grade": false,
     "grade_id": "cell-dd3cc4d345f77e73",
     "locked": true,
     "schema_version": 3,
     "solution": false,
     "task": false
    },
    "slideshow": {
     "slide_type": ""
    },
    "tags": []
   },
   "outputs": [],
   "source": [
    "%%bash\n",
    "rm -rf soccer"
   ]
  },
  {
   "cell_type": "code",
   "execution_count": null,
   "id": "c0a3a46a-4f8b-4dac-8f87-cb6c1022f71c",
   "metadata": {
    "editable": true,
    "nbgrader": {
     "grade": false,
     "grade_id": "cell-c0233b76c55a6f74",
     "locked": false,
     "schema_version": 3,
     "solution": true,
     "task": false
    },
    "slideshow": {
     "slide_type": ""
    },
    "tags": []
   },
   "outputs": [],
   "source": [
    "%%bash\n",
    "### YOUR CODE HERE\n"
   ]
  },
  {
   "cell_type": "code",
   "execution_count": null,
   "id": "dc161a22-36e7-436c-982c-54ea78baa4c0",
   "metadata": {
    "editable": false,
    "nbgrader": {
     "grade": true,
     "grade_id": "cell-f34d88531e36b2f3",
     "locked": true,
     "points": 1,
     "schema_version": 3,
     "solution": false,
     "task": false
    },
    "slideshow": {
     "slide_type": ""
    },
    "tags": []
   },
   "outputs": [],
   "source": [
    "assert_equal(os.readlink('soccer'), '/mnt/data/public/football-events/')"
   ]
  },
  {
   "cell_type": "markdown",
   "id": "2f58a40d-7946-4acd-8abb-b1c1f9165900",
   "metadata": {
    "editable": false,
    "nbgrader": {
     "grade": false,
     "grade_id": "cell-bbe6574057d84aae",
     "locked": true,
     "schema_version": 3,
     "solution": false,
     "task": false
    },
    "slideshow": {
     "slide_type": ""
    },
    "tags": []
   },
   "source": [
    "## Problem 5\n",
    "\n",
    "Search all files under `./linux_files/data/public/opendata/transport` for lines that contain the phrase `Mactan (International)` (case-insensitive) then store them in the file `mactan.txt`."
   ]
  },
  {
   "cell_type": "code",
   "execution_count": null,
   "id": "a5eab2e0-b889-46fb-a10b-cc6acd03f357",
   "metadata": {
    "editable": false,
    "nbgrader": {
     "grade": false,
     "grade_id": "cell-4de13fee4cb0b16e",
     "locked": true,
     "schema_version": 3,
     "solution": false,
     "task": false
    },
    "slideshow": {
     "slide_type": ""
    },
    "tags": []
   },
   "outputs": [],
   "source": [
    "!rm -f mactan.txt"
   ]
  },
  {
   "cell_type": "code",
   "execution_count": null,
   "id": "ca548e25-6904-4465-ac15-d4b6150e5783",
   "metadata": {
    "editable": true,
    "nbgrader": {
     "grade": false,
     "grade_id": "cell-21ad2d469f3bbbf1",
     "locked": false,
     "schema_version": 3,
     "solution": true,
     "task": false
    },
    "slideshow": {
     "slide_type": ""
    },
    "tags": []
   },
   "outputs": [],
   "source": [
    "%%bash\n",
    "### YOUR CODE HERE\n"
   ]
  },
  {
   "cell_type": "code",
   "execution_count": null,
   "id": "6ad238bc-1878-4728-b4bd-90784c3fdda9",
   "metadata": {
    "editable": false,
    "nbgrader": {
     "grade": true,
     "grade_id": "cell-9921b5028941bdc2",
     "locked": true,
     "points": 1,
     "schema_version": 3,
     "solution": false,
     "task": false
    },
    "slideshow": {
     "slide_type": ""
    },
    "tags": []
   },
   "outputs": [],
   "source": [
    "with open('mactan.txt') as f:\n",
    "    lines_mactan = sorted(f.readlines())\n",
    "assert_equal(len(lines_mactan), 83)\n",
    "assert_equal(\n",
    "    lines_mactan[:5],\n",
    "    ['VII (Central Visayas),Mactan (International),Cathay,-,10660,12105,12598,'\n",
    "     '13782,12508,12844,13541,10803,10921,8329,10486,128577\\n',\n",
    "     'VII (Central Visayas),Mactan (International),Cathay,-,196276,619180,'\n",
    "     '586180,638074,490074,520351,521658,329835,572562,581802,386086,5442078\\n',\n",
    "     'VII (Central Visayas),Mactan (International),Cathay,-,56,62,46,62,60,62,'\n",
    "     '62,60,62,60,62,654\\n',\n",
    "     'VII (Central Visayas),Mactan (International),Cathay,11168,10489,-,-,-,-,'\n",
    "     '-,-,-,-,-,-,21657\\n',\n",
    "     'VII (Central Visayas),Mactan (International),Cathay,299988,420184,449741,'\n",
    "     '470096,555647,526221,-,466785,486125,464619,403014,-,4542420\\n']\n",
    ")"
   ]
  },
  {
   "cell_type": "markdown",
   "id": "e59452a7-98b6-4461-97e2-b87a93f18761",
   "metadata": {
    "editable": false,
    "nbgrader": {
     "grade": false,
     "grade_id": "cell-f0f86d175c2076fa",
     "locked": true,
     "schema_version": 3,
     "solution": false,
     "task": false
    },
    "slideshow": {
     "slide_type": ""
    },
    "tags": []
   },
   "source": [
    "## Problem 6\n",
    "\n",
    "Update `a.txt` so that the contents of `b.txt` and `c.txt` are appended at the end."
   ]
  },
  {
   "cell_type": "code",
   "execution_count": null,
   "id": "af3a81c7-8f5c-4e6b-bb44-8a2cc4cd3365",
   "metadata": {
    "editable": false,
    "nbgrader": {
     "grade": false,
     "grade_id": "cell-dc49eb371a42d601",
     "locked": true,
     "schema_version": 3,
     "solution": false,
     "task": false
    },
    "slideshow": {
     "slide_type": ""
    },
    "tags": []
   },
   "outputs": [],
   "source": [
    "with open('a.txt', 'w') as f:\n",
    "    f.writelines([\n",
    "        'little carabao\\n',\n",
    "        'sitting on a chair\\n',\n",
    "        'then she cried aloud\\n'\n",
    "    ])\n",
    "with open('b.txt', 'w') as f:\n",
    "    f.writelines([\n",
    "        'unganga\\n',\n",
    "        'unganga\\n',\n",
    "        'little carabao\\n'\n",
    "    ])\n",
    "with open('c.txt', 'w') as f:\n",
    "    f.writelines([\n",
    "        'three blind mice\\n',\n",
    "        'three blind mice\\n',\n",
    "        'three blind mice\\n'\n",
    "    ])"
   ]
  },
  {
   "cell_type": "code",
   "execution_count": null,
   "id": "0711b446-8189-4a55-926a-3c1334b627e3",
   "metadata": {
    "editable": true,
    "nbgrader": {
     "grade": false,
     "grade_id": "cell-0cddc9937348e941",
     "locked": false,
     "schema_version": 3,
     "solution": true,
     "task": false
    },
    "slideshow": {
     "slide_type": ""
    },
    "tags": []
   },
   "outputs": [],
   "source": [
    "%%bash\n",
    "### YOUR CODE HERE\n"
   ]
  },
  {
   "cell_type": "code",
   "execution_count": null,
   "id": "805ec922-fe68-44de-bfa8-76dce0769486",
   "metadata": {
    "editable": false,
    "nbgrader": {
     "grade": true,
     "grade_id": "cell-3dbf03ef87bbec63",
     "locked": true,
     "points": 1,
     "schema_version": 3,
     "solution": false,
     "task": false
    },
    "slideshow": {
     "slide_type": ""
    },
    "tags": []
   },
   "outputs": [],
   "source": [
    "with open('a.txt') as f:\n",
    "    lines_abc = f.readlines()\n",
    "assert_equal(\n",
    "    lines_abc[:5],\n",
    "    ['little carabao\\n',\n",
    "     'sitting on a chair\\n',\n",
    "     'then she cried aloud\\n',\n",
    "     'unganga\\n',\n",
    "     'unganga\\n']\n",
    ")"
   ]
  },
  {
   "cell_type": "markdown",
   "id": "072f2c84-f6af-4884-a94b-b371ac3455e3",
   "metadata": {
    "editable": true,
    "nbgrader": {
     "grade": false,
     "grade_id": "cell-11fdc06653450070",
     "locked": true,
     "schema_version": 3,
     "solution": false,
     "task": false
    },
    "slideshow": {
     "slide_type": ""
    },
    "tags": []
   },
   "source": [
    "## Problem 7\n",
    "\n",
    "Show the lines in `./linux_files/data/public/gutenberg/7/74/74-0.txt` that contain both case-insensitive strings `river` and `raft`."
   ]
  },
  {
   "cell_type": "code",
   "execution_count": null,
   "id": "e431f114-d764-4d86-894e-064164fb93a3",
   "metadata": {
    "editable": true,
    "nbgrader": {
     "grade": false,
     "grade_id": "cell-75d732e00fa39acf",
     "locked": false,
     "schema_version": 3,
     "solution": true,
     "task": false
    },
    "slideshow": {
     "slide_type": ""
    },
    "tags": []
   },
   "outputs": [],
   "source": [
    "%%bash --bg --out output\n",
    "### YOUR CODE HERE\n"
   ]
  },
  {
   "cell_type": "code",
   "execution_count": null,
   "id": "267ce50d-5d18-4c36-8773-869b08d59da8",
   "metadata": {
    "editable": false,
    "nbgrader": {
     "grade": true,
     "grade_id": "cell-a96ada60b6ebe6e6",
     "locked": true,
     "points": 1,
     "schema_version": 3,
     "solution": false,
     "task": false
    },
    "slideshow": {
     "slide_type": ""
    },
    "tags": []
   },
   "outputs": [],
   "source": [
    "output = str(await output.read(), encoding='utf-8')\n",
    "lines_gb2 = output.strip().split('\\r\\n')\n",
    "assert_equal(len(lines_gb2), 3)\n",
    "assert_equal(\n",
    "    lines_gb2[0], \n",
    "    'places that were in harmony with his spirit. A log raft in the river'\n",
    ")"
   ]
  },
  {
   "cell_type": "code",
   "execution_count": null,
   "id": "69bb2c5c-a670-457a-a6ef-1a3b71683acf",
   "metadata": {
    "editable": true,
    "slideshow": {
     "slide_type": ""
    },
    "tags": []
   },
   "outputs": [],
   "source": []
  }
 ],
 "metadata": {
  "kernelspec": {
   "display_name": "Python 3 (ipykernel)",
   "language": "python",
   "name": "python3"
  },
  "language_info": {
   "codemirror_mode": {
    "name": "ipython",
    "version": 3
   },
   "file_extension": ".py",
   "mimetype": "text/x-python",
   "name": "python",
   "nbconvert_exporter": "python",
   "pygments_lexer": "ipython3",
   "version": "3.9.6"
  }
 },
 "nbformat": 4,
 "nbformat_minor": 5
}
